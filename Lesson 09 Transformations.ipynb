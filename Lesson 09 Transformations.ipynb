{
 "cells": [
  {
   "cell_type": "markdown",
   "id": "2a44db79-68f7-4561-99ea-95fa42c4f823",
   "metadata": {
    "editable": true,
    "slideshow": {
     "slide_type": ""
    },
    "tags": []
   },
   "source": [
    "**SM339 &#x25aa; Applied Statistics &#x25aa; Spring 2024 &#x25aa; Uhan**"
   ]
  },
  {
   "cell_type": "markdown",
   "id": "4e0e962f-b0eb-49ba-a8ec-33275dd5faf3",
   "metadata": {
    "editable": true,
    "slideshow": {
     "slide_type": ""
    },
    "tags": []
   },
   "source": [
    "# Lesson 9. Transformations"
   ]
  },
  {
   "cell_type": "markdown",
   "id": "9eb1cf88-112d-4532-862e-b81f8bdc7439",
   "metadata": {
    "editable": true,
    "slideshow": {
     "slide_type": ""
    },
    "tags": []
   },
   "source": [
    "_Setup._ Tweak the width and height values below to adjust the size of your plots in this notebook."
   ]
  },
  {
   "cell_type": "code",
   "execution_count": null,
   "id": "74e9d034-56d8-4151-b87b-a7f53aad270e",
   "metadata": {
    "editable": true,
    "slideshow": {
     "slide_type": ""
    },
    "tags": []
   },
   "outputs": [],
   "source": [
    "options(repr.plot.width=5, repr.plot.height=5)"
   ]
  },
  {
   "cell_type": "markdown",
   "id": "a755355e-9282-4a87-bb67-60aa8798b772",
   "metadata": {
    "editable": true,
    "slideshow": {
     "slide_type": ""
    },
    "tags": []
   },
   "source": [
    "## Overview"
   ]
  },
  {
   "cell_type": "markdown",
   "id": "662a240f-dd57-42d4-817b-8345d4307664",
   "metadata": {
    "editable": true,
    "slideshow": {
     "slide_type": ""
    },
    "tags": []
   },
   "source": [
    "- If one or more of the conditions for a simple linear regression model are not satisfied, then a _possible_ solution is to __transform__ one or both variables\n",
    "\n",
    "- Some of the most common transformations are:\n",
    "    - $x^2$\n",
    "    - $1 / x$\n",
    "    - $\\sqrt{x}$\n",
    "    - $\\log(x)$ (natural logarithm)"
   ]
  },
  {
   "cell_type": "markdown",
   "id": "e4e546fd-7b8b-46db-a302-37932c8b0ce9",
   "metadata": {
    "editable": true,
    "slideshow": {
     "slide_type": ""
    },
    "tags": []
   },
   "source": [
    "## Example 1"
   ]
  },
  {
   "cell_type": "markdown",
   "id": "d975876a-e96b-4338-baa0-01da2ecd1fe0",
   "metadata": {
    "editable": true,
    "slideshow": {
     "slide_type": ""
    },
    "tags": []
   },
   "source": [
    "The data frame `SpeciesArea` in the `Stat2Data` package contains the number of mammal species and the area for 13 islands in Southeast Asia. Let's take a peek:"
   ]
  },
  {
   "cell_type": "code",
   "execution_count": null,
   "id": "2696df5c-5210-4c2c-b94e-307f4952450c",
   "metadata": {
    "editable": true,
    "slideshow": {
     "slide_type": ""
    },
    "tags": []
   },
   "outputs": [],
   "source": [
    "library(Stat2Data)\n",
    "data(SpeciesArea)\n",
    "head(SpeciesArea)"
   ]
  },
  {
   "cell_type": "markdown",
   "id": "9c268154-4c8b-46cf-a30e-6a5586bd5e2d",
   "metadata": {
    "editable": true,
    "slideshow": {
     "slide_type": ""
    },
    "tags": []
   },
   "source": [
    "Biologists have speculated that the number of species (`Species`) is related to the size of an island (`Area`) and would like to be able to predict the number of species present, given the size of an island."
   ]
  },
  {
   "cell_type": "markdown",
   "id": "1ea771c8-1127-4ed9-b518-b3349e8bd63a",
   "metadata": {
    "editable": true,
    "slideshow": {
     "slide_type": ""
    },
    "tags": []
   },
   "source": [
    "* First, let's create a scatterplot with response `Species` and predictor `Area`:"
   ]
  },
  {
   "cell_type": "code",
   "execution_count": null,
   "id": "36bc1ecb-bd27-4db0-98df-6b4e7d276bd4",
   "metadata": {
    "editable": true,
    "slideshow": {
     "slide_type": ""
    },
    "tags": []
   },
   "outputs": [],
   "source": []
  },
  {
   "cell_type": "markdown",
   "id": "c0826650-046d-4aea-b06d-0ab69163210b",
   "metadata": {
    "editable": true,
    "slideshow": {
     "slide_type": ""
    },
    "tags": []
   },
   "source": [
    "* Now, let's fit a simple linear regression model and check the diagnostic plots (spoiler alert &ndash; it's not a good fit):"
   ]
  },
  {
   "cell_type": "code",
   "execution_count": null,
   "id": "0870a14f-83db-405b-bcfb-7d355d24a5c4",
   "metadata": {
    "editable": true,
    "slideshow": {
     "slide_type": ""
    },
    "tags": []
   },
   "outputs": [],
   "source": []
  },
  {
   "cell_type": "markdown",
   "id": "c43bc701-35fd-4bdb-8125-63504181ad46",
   "metadata": {
    "editable": true,
    "slideshow": {
     "slide_type": ""
    },
    "tags": []
   },
   "source": [
    "* Let's try transforming `Species` and/or `Area`!\n",
    "\n",
    "* One idea would be to apply the natural logarithm to both variables\n",
    "\n",
    "* We can add two columns to the `SpeciesArea` data frame, one containing the log of `Species`, and the other containing the log of `Area`: "
   ]
  },
  {
   "cell_type": "code",
   "execution_count": null,
   "id": "f74cc66d-35ef-49ec-81cd-b672f72574f4",
   "metadata": {
    "editable": true,
    "slideshow": {
     "slide_type": ""
    },
    "tags": []
   },
   "outputs": [],
   "source": []
  },
  {
   "cell_type": "markdown",
   "id": "0571d774-d74a-434f-9858-42b1b36af98a",
   "metadata": {
    "editable": true,
    "slideshow": {
     "slide_type": ""
    },
    "tags": []
   },
   "source": [
    "* Let's check our work:"
   ]
  },
  {
   "cell_type": "code",
   "execution_count": null,
   "id": "0662e009-7ddf-4e54-ae78-47f09bf7fc16",
   "metadata": {
    "editable": true,
    "slideshow": {
     "slide_type": ""
    },
    "tags": []
   },
   "outputs": [],
   "source": []
  },
  {
   "cell_type": "markdown",
   "id": "086781fd-5f96-4a3c-8d84-ee488735a425",
   "metadata": {
    "editable": true,
    "slideshow": {
     "slide_type": ""
    },
    "tags": []
   },
   "source": [
    "* Let's fit a simple linear regression model and check the diagnostic plots"
   ]
  },
  {
   "cell_type": "code",
   "execution_count": null,
   "id": "bffeb6ac-3bc1-4c0f-bae1-123b11f8e226",
   "metadata": {
    "editable": true,
    "slideshow": {
     "slide_type": ""
    },
    "tags": []
   },
   "outputs": [],
   "source": []
  },
  {
   "cell_type": "markdown",
   "id": "3d03d445-929f-410a-8fa6-a85bf3bae42e",
   "metadata": {
    "editable": true,
    "slideshow": {
     "slide_type": ""
    },
    "tags": []
   },
   "source": [
    "* What do you think about the fit of this model?"
   ]
  },
  {
   "cell_type": "markdown",
   "id": "d099165f-3333-463c-a073-11b14ed13b08",
   "metadata": {
    "editable": true,
    "slideshow": {
     "slide_type": ""
    },
    "tags": []
   },
   "source": [
    "*Write your answer here. Double-click to edit.*\n",
    "\n",
    "- __Linearity__\n",
    "\n",
    "- __Independence__\n",
    "\n",
    "- __Normality__\n",
    "\n",
    "- __Equal variance__\n",
    "\n",
    "- __Randomness__"
   ]
  },
  {
   "cell_type": "markdown",
   "id": "4ef29e0e-e243-4311-9bb5-5aa3f69e92fe",
   "metadata": {
    "editable": true,
    "slideshow": {
     "slide_type": ""
    },
    "tags": []
   },
   "source": [
    "* Let's state the fitted model below, making sure to include the transformations:"
   ]
  },
  {
   "cell_type": "markdown",
   "id": "0ef74bd2-5be6-4e04-b9fc-39288453feb5",
   "metadata": {
    "editable": true,
    "slideshow": {
     "slide_type": ""
    },
    "tags": []
   },
   "source": [
    "*Write your answer here. Double-click to edit.*"
   ]
  },
  {
   "cell_type": "markdown",
   "id": "65f7ce8d-6905-4517-b9a1-7ec46ae1531d",
   "metadata": {
    "editable": true,
    "slideshow": {
     "slide_type": ""
    },
    "tags": []
   },
   "source": [
    "* We can now use the fitted model to predict the number of species for the island of Java, which has an area of 125,628 squared kilometers:"
   ]
  },
  {
   "cell_type": "code",
   "execution_count": null,
   "id": "474eeee2-18e0-46fb-8e9f-d48a2c03e51c",
   "metadata": {
    "editable": true,
    "slideshow": {
     "slide_type": ""
    },
    "tags": []
   },
   "outputs": [],
   "source": []
  },
  {
   "cell_type": "markdown",
   "id": "b0834429-191c-41be-9062-698346b89488",
   "metadata": {
    "editable": true,
    "slideshow": {
     "slide_type": ""
    },
    "tags": []
   },
   "source": [
    "*Write your answer here. Double-click to edit.*"
   ]
  },
  {
   "cell_type": "markdown",
   "id": "5c54a5c7-2e92-48ab-880c-b20e9f2bc416",
   "metadata": {
    "editable": true,
    "slideshow": {
     "slide_type": ""
    },
    "tags": []
   },
   "source": [
    "## Cautions about transformations"
   ]
  },
  {
   "cell_type": "markdown",
   "id": "dc94700e-4f1a-4273-b755-8b471eec83f6",
   "metadata": {
    "editable": true,
    "slideshow": {
     "slide_type": ""
    },
    "tags": []
   },
   "source": [
    "- __Transformations change the scale of the data!__\n",
    "\n",
    "- Therefore, we must be __very careful__ about interpretations"
   ]
  },
  {
   "cell_type": "markdown",
   "id": "1b1668d6-a885-469a-a678-a47fd7c13be0",
   "metadata": {
    "editable": true,
    "slideshow": {
     "slide_type": ""
    },
    "tags": []
   },
   "source": [
    "- Back-transforming a _point estimate of the response_ (to get back to the original scale), like we did in this example, is OK\n",
    "\n",
    "- Back-transforming _parameter estimates or CI endpoints_ needs to be done __very carefully__ to ensure accurate interpretations\n",
    "    - Only in a few cases will this result in meaningful interpretations"
   ]
  },
  {
   "cell_type": "markdown",
   "id": "420e690c-314a-4aaf-9293-69482ea2f5bc",
   "metadata": {
    "editable": true,
    "slideshow": {
     "slide_type": ""
    },
    "tags": []
   },
   "source": [
    "- Transformations can be helpful in certain situations, but are __often not the best option to address violation of model conditions__"
   ]
  },
  {
   "cell_type": "markdown",
   "id": "0e374661-9a20-4cee-88c1-9141f309458a",
   "metadata": {
    "editable": true,
    "slideshow": {
     "slide_type": ""
    },
    "tags": []
   },
   "source": [
    "## Extrapolation"
   ]
  },
  {
   "cell_type": "markdown",
   "id": "a2b6448c-7a0e-4abf-87ff-5a38f28a222e",
   "metadata": {
    "editable": true,
    "slideshow": {
     "slide_type": ""
    },
    "tags": []
   },
   "source": [
    "- Extrapolation is when we make predictions (using our fitted model) outside the range of the explanatory variables in the data\n",
    "\n",
    "- This is a __BAD IDEA__, because we have no idea what the pattern in the data looks like beyond the values we're working with"
   ]
  },
  {
   "cell_type": "markdown",
   "id": "2b1e9e31-27aa-41cd-8b4b-fc2200d4de04",
   "metadata": {
    "editable": true,
    "slideshow": {
     "slide_type": ""
    },
    "tags": []
   },
   "source": [
    "<img src=\"img/Extrapolation.png\" width=\"500\" alt=\"https://xkcd.com/605\">"
   ]
  }
 ],
 "metadata": {
  "kernelspec": {
   "display_name": "R",
   "language": "R",
   "name": "ir"
  },
  "language_info": {
   "codemirror_mode": "r",
   "file_extension": ".r",
   "mimetype": "text/x-r-source",
   "name": "R",
   "pygments_lexer": "r",
   "version": "4.2.2"
  }
 },
 "nbformat": 4,
 "nbformat_minor": 5
}
